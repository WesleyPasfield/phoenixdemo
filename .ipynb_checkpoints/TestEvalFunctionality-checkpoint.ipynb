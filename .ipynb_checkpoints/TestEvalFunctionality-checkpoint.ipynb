{
 "cells": [
  {
   "cell_type": "code",
   "execution_count": null,
   "id": "04d51a65-106a-4386-9b16-d4cd9ae18962",
   "metadata": {},
   "outputs": [],
   "source": [
    "from app.run_evaluation import run_manual_review, run_llm_evaluation"
   ]
  },
  {
   "cell_type": "code",
   "execution_count": null,
   "id": "a7ff331e-2b5a-4cd1-ac59-ba20184f05f4",
   "metadata": {},
   "outputs": [],
   "source": [
    "from phoenix import Session, StorageConfig, S3LogConfig\n",
    "from phoenix.evaluation import EvaluationFramework, ModelBasedEvaluator, ManualEvaluator, CustomMetric\n",
    "from phoenix.store import DocumentStore\n",
    "from dataclasses import dataclass\n",
    "from typing import Dict, List\n",
    "import os\n",
    "import boto3\n",
    "import json\n",
    "import uuid\n",
    "from botocore.exceptions import ClientError\n",
    "\n",
    "@dataclass\n",
    "class Review:\n",
    "    response_id: str\n",
    "    project_id: str\n",
    "    reviewer_id: str\n",
    "    model_response: str\n",
    "    correction: str\n",
    "    score_type: str\n",
    "    score: int\n",
    "    explanation: str = \"\"\n",
    "    review_type: str = \"manual\"\n",
    "    review_model: str = \"human\"\n",
    "\n",
    "def load_config():\n",
    "   # Load DB credentials from parameters.json\n",
    "   with open('parameters.json') as f:\n",
    "       params = json.load(f)\n",
    "       for param in params:\n",
    "           if param['ParameterKey'] == 'DBUsername':\n",
    "               os.environ['DB_USER'] = param['ParameterValue']\n",
    "           if param['ParameterKey'] == 'DBPassword':\n",
    "               os.environ['DB_PASSWORD'] = param['ParameterValue']\n",
    "\n",
    "   # Get stack name from parameters.json\n",
    "   stack_name = None\n",
    "   with open('parameters.json') as f:\n",
    "       params = json.load(f)\n",
    "       for param in params:\n",
    "           if param['ParameterKey'] == 'S3BucketName':\n",
    "               stack_name = param['ParameterValue']\n",
    "               break\n",
    "\n",
    "   # Get DB endpoint and bucket name from CloudFormation\n",
    "   cfn = boto3.client('cloudformation')\n",
    "   response = cfn.describe_stacks(StackName=stack_name)\n",
    "   outputs = response['Stacks'][0]['Outputs']\n",
    "   \n",
    "   for output in outputs:\n",
    "       if output['OutputKey'] == 'DBEndpoint':\n",
    "           os.environ['RDS_HOST'] = output['Value']\n",
    "       if output['OutputKey'] == 'BucketName':\n",
    "           os.environ['S3_BUCKET'] = output['Value']\n",
    "\n",
    "   # Set region from boto3 session\n",
    "   session = boto3.session.Session()\n",
    "   os.environ['AWS_REGION'] = session.region_name"
   ]
  },
  {
   "cell_type": "code",
   "execution_count": null,
   "id": "3caa584f-3ff3-4a37-b4ce-541103f5292e",
   "metadata": {},
   "outputs": [],
   "source": [
    "# Manual review\n",
    "result = run_manual_review(\n",
    "    project_id=\"project_123\",\n",
    "    reviewer_id=\"analyst_1\",\n",
    "    model_response=\"Response to evaluate\",\n",
    "    correction=\"Corrected response\",\n",
    "    score_type=\"accuracy\",\n",
    "    score=4,\n",
    "    explanation=\"Minor inaccuracies\"\n",
    ")\n",
    "\n",
    "# LLM evaluation\n",
    "llm_result = run_llm_evaluation(\n",
    "    project_id=\"project_123\",\n",
    "    model_response=\"Response to evaluate\",\n",
    "    models=[\"gpt-4\", \"claude-3\"]\n",
    ")"
   ]
  }
 ],
 "metadata": {
  "kernelspec": {
   "display_name": "Py311",
   "language": "python",
   "name": "py311"
  },
  "language_info": {
   "codemirror_mode": {
    "name": "ipython",
    "version": 3
   },
   "file_extension": ".py",
   "mimetype": "text/x-python",
   "name": "python",
   "nbconvert_exporter": "python",
   "pygments_lexer": "ipython3",
   "version": "3.11.10"
  }
 },
 "nbformat": 4,
 "nbformat_minor": 5
}
